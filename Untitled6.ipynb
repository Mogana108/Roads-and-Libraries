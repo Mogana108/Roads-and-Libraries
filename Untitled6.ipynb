{
  "nbformat": 4,
  "nbformat_minor": 0,
  "metadata": {
    "colab": {
      "name": "Untitled6.ipynb",
      "provenance": []
    },
    "kernelspec": {
      "name": "python3",
      "display_name": "Python 3"
    },
    "language_info": {
      "name": "python"
    }
  },
  "cells": [
    {
      "cell_type": "code",
      "execution_count": null,
      "metadata": {
        "id": "lGAMbVpRRETv"
      },
      "outputs": [],
      "source": [
        "#!/bin/python3\n",
        "\n",
        "def dfs(graph, start, visited):\n",
        "    stack = [start]\n",
        "    while stack:\n",
        "        vertex = stack.pop()\n",
        "        if vertex not in visited:\n",
        "            visited.add(vertex)\n",
        "            stack.extend(graph[vertex] - visited)\n",
        "\n",
        "def roadsAndLibraries(n, cLib, cRoad, cities):\n",
        "    # construct graph as adjacency-list\n",
        "    graph = {i: set() for i in range(1,n+1)}\n",
        "    for city1, city2 in cities:\n",
        "        graph[city1].add(city2)\n",
        "        graph[city2].add(city1)\n",
        "\n",
        "    # if libraries are cheaper than roads, build \n",
        "    #   library in every city and build no roads\n",
        "    if cLib < cRoad:\n",
        "        return cLib * n\n",
        "\n",
        "    # determine number of connected components (CC) in graph\n",
        "    visited = set()\n",
        "    nCC = 0\n",
        "    for city in range(1, n+1):\n",
        "        if city not in visited:\n",
        "            dfs(graph, city, visited)\n",
        "            nCC += 1\n",
        "\n",
        "    # 1 library per CC, nCitiesPerCC-1 roads per CC\n",
        "    return nCC*cLib + (n-nCC)*cRoad\n",
        "\n",
        "if __name__ == '__main__':\n",
        "    q = int(input())\n",
        "\n",
        "    for _ in range(q):\n",
        "        n, m, cLib, cRoad = map(int, input().split())\n",
        "        cities = []\n",
        "        for _ in range(m):\n",
        "            cities.append(list(map(int, input().split())))\n",
        "\n",
        "        result = roadsAndLibraries(n, cLib, cRoad, cities)\n",
        "        print(result)\n"
      ]
    }
  ]
}